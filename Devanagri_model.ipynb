{
 "cells": [
  {
   "cell_type": "code",
   "execution_count": 1,
   "metadata": {
    "scrolled": true
   },
   "outputs": [],
   "source": [
    "#read dataset\n",
    "import os\n",
    "import cv2\n",
    "import numpy as np"
   ]
  },
  {
   "cell_type": "code",
   "execution_count": 2,
   "metadata": {},
   "outputs": [
    {
     "name": "stdout",
     "output_type": "stream",
     "text": [
      "character_12_thaa\n",
      "character_27_ra\n",
      "character_13_daa\n",
      "character_21_pa\n",
      "character_14_dhaa\n",
      "character_25_ma\n",
      "character_30_motosaw\n",
      "character_16_tabala\n",
      "character_20_na\n",
      "digit_8\n",
      "digit_5\n",
      "character_4_gha\n",
      "character_32_patalosaw\n",
      "character_18_da\n",
      "character_9_jha\n",
      "character_33_ha\n",
      "digit_2\n",
      "character_26_yaw\n",
      "digit_7\n",
      "digit_1\n",
      "digit_4\n",
      "character_31_petchiryakha\n",
      "digit_9\n",
      "character_3_ga\n",
      "character_29_waw\n",
      "character_6_cha\n",
      "character_8_ja\n",
      "character_23_ba\n",
      "character_7_chha\n",
      "character_28_la\n",
      "character_22_pha\n",
      "character_35_tra\n",
      "digit_3\n",
      "digit_6\n",
      "character_34_chhya\n",
      "character_24_bha\n",
      "character_11_taamatar\n",
      "digit_0\n",
      "character_17_tha\n",
      "character_10_yna\n",
      "character_36_gya\n",
      "character_19_dha\n",
      "character_5_kna\n",
      "character_2_kha\n",
      "character_15_adna\n",
      "character_1_ka\n"
     ]
    }
   ],
   "source": [
    "for folder in os.listdir(\"DevanagariHandwrittenCharacterDataset/Train\"):\n",
    "    print(folder)"
   ]
  },
  {
   "cell_type": "code",
   "execution_count": 3,
   "metadata": {},
   "outputs": [],
   "source": [
    "def load_images(path):\n",
    "    labels=[]\n",
    "    img_data=[]\n",
    "    label_idx=[]\n",
    "    i=-1\n",
    "    for folder in os.listdir(path):\n",
    "        labels.append(folder)\n",
    "        i+=1\n",
    "        for train_image in os.listdir(path + \"/\" +folder):\n",
    "            image = cv2.imread(path + \"/\" +folder + \"/\" +train_image, cv2.IMREAD_GRAYSCALE)\n",
    "            image=cv2.resize(image,(32,32))\n",
    "            img_data.append(image)\n",
    "            label_idx.append(i)\n",
    "    return np.array(labels),np.array(img_data),np.array(label_idx)"
   ]
  },
  {
   "cell_type": "code",
   "execution_count": 4,
   "metadata": {},
   "outputs": [],
   "source": [
    "label_name,X_train,y_train=load_images(\"DevanagariHandwrittenCharacterDataset/Train\")\n",
    "_,X_test,y_test=load_images(\"DevanagariHandwrittenCharacterDataset/Test\")"
   ]
  },
  {
   "cell_type": "code",
   "execution_count": 5,
   "metadata": {},
   "outputs": [
    {
     "name": "stdout",
     "output_type": "stream",
     "text": [
      "78200 13800\n",
      "46\n"
     ]
    },
    {
     "name": "stderr",
     "output_type": "stream",
     "text": [
      "Using Theano backend.\n",
      "WARNING (theano.tensor.blas): Using NumPy C-API based implementation for BLAS functions.\n"
     ]
    }
   ],
   "source": [
    "print(len(y_train),len(y_test))\n",
    "print(len(label_name))\n",
    "#one hot encoding\n",
    "from keras.utils import np_utils\n",
    "y_train = np_utils.to_categorical(y_train,46)\n",
    "y_test = np_utils.to_categorical(y_test,46)"
   ]
  },
  {
   "cell_type": "code",
   "execution_count": 6,
   "metadata": {},
   "outputs": [
    {
     "name": "stdout",
     "output_type": "stream",
     "text": [
      "[[1. 0. 0. 0. 0. 0. 0. 0. 0. 0. 0. 0. 0. 0. 0. 0. 0. 0. 0. 0. 0. 0. 0. 0.\n",
      "  0. 0. 0. 0. 0. 0. 0. 0. 0. 0. 0. 0. 0. 0. 0. 0. 0. 0. 0. 0. 0. 0.]\n",
      " [1. 0. 0. 0. 0. 0. 0. 0. 0. 0. 0. 0. 0. 0. 0. 0. 0. 0. 0. 0. 0. 0. 0. 0.\n",
      "  0. 0. 0. 0. 0. 0. 0. 0. 0. 0. 0. 0. 0. 0. 0. 0. 0. 0. 0. 0. 0. 0.]\n",
      " [1. 0. 0. 0. 0. 0. 0. 0. 0. 0. 0. 0. 0. 0. 0. 0. 0. 0. 0. 0. 0. 0. 0. 0.\n",
      "  0. 0. 0. 0. 0. 0. 0. 0. 0. 0. 0. 0. 0. 0. 0. 0. 0. 0. 0. 0. 0. 0.]]\n",
      "[[1. 0. 0. 0. 0. 0. 0. 0. 0. 0. 0. 0. 0. 0. 0. 0. 0. 0. 0. 0. 0. 0. 0. 0.\n",
      "  0. 0. 0. 0. 0. 0. 0. 0. 0. 0. 0. 0. 0. 0. 0. 0. 0. 0. 0. 0. 0. 0.]\n",
      " [1. 0. 0. 0. 0. 0. 0. 0. 0. 0. 0. 0. 0. 0. 0. 0. 0. 0. 0. 0. 0. 0. 0. 0.\n",
      "  0. 0. 0. 0. 0. 0. 0. 0. 0. 0. 0. 0. 0. 0. 0. 0. 0. 0. 0. 0. 0. 0.]\n",
      " [1. 0. 0. 0. 0. 0. 0. 0. 0. 0. 0. 0. 0. 0. 0. 0. 0. 0. 0. 0. 0. 0. 0. 0.\n",
      "  0. 0. 0. 0. 0. 0. 0. 0. 0. 0. 0. 0. 0. 0. 0. 0. 0. 0. 0. 0. 0. 0.]]\n"
     ]
    }
   ],
   "source": [
    "#one hot vectors\n",
    "print(y_train[0:3,:])\n",
    "print(y_test[0:3,:])\n",
    "X_train = X_train.reshape(X_train.shape[0],32,32,1)\n",
    "X_test = X_test.reshape(X_test.shape[0],32,32,1)"
   ]
  },
  {
   "cell_type": "code",
   "execution_count": 7,
   "metadata": {},
   "outputs": [],
   "source": [
    "#see a sample image\n",
    "import matplotlib.pyplot as plt\n",
    "import matplotlib.image as mpimg\n",
    "%matplotlib inline\n",
    "sample=mpimg.imread(\"DevanagariHandwrittenCharacterDataset/Train/character_11_taamatar/214.png\")"
   ]
  },
  {
   "cell_type": "code",
   "execution_count": 8,
   "metadata": {},
   "outputs": [
    {
     "name": "stdout",
     "output_type": "stream",
     "text": [
      "(32, 32)\n"
     ]
    },
    {
     "data": {
      "image/png": "[encoded data removed]",
      "text/plain": [
       "<Figure size 432x288 with 1 Axes>"
      ]
     },
     "metadata": {
      "needs_background": "light"
     },
     "output_type": "display_data"
    }
   ],
   "source": [
    "print(sample.shape)\n",
    "plot=plt.imshow(sample)"
   ]
  },
  {
   "cell_type": "code",
   "execution_count": 9,
   "metadata": {},
   "outputs": [],
   "source": [
    "#Train conv network now!\n",
    "from keras.layers import Conv2D, MaxPooling2D, ZeroPadding2D, Dense, Dropout, Activation, Flatten\n",
    "from keras.models import Sequential\n",
    "from keras.optimizers import Adam\n",
    "from keras.layers.normalization import BatchNormalization"
   ]
  },
  {
   "cell_type": "code",
   "execution_count": 10,
   "metadata": {
    "scrolled": true
   },
   "outputs": [
    {
     "name": "stdout",
     "output_type": "stream",
     "text": [
      "Train on 78200 samples, validate on 13800 samples\n",
      "Epoch 1/8\n",
      "78200/78200 [==============================] - 374s 5ms/step - loss: 2.3590 - acc: 0.3313 - val_loss: 0.8123 - val_acc: 0.8728\n",
      "Epoch 2/8\n",
      "78200/78200 [==============================] - 374s 5ms/step - loss: 1.6895 - acc: 0.4673 - val_loss: 0.5278 - val_acc: 0.9045\n",
      "Epoch 3/8\n",
      "78200/78200 [==============================] - 375s 5ms/step - loss: 1.5013 - acc: 0.5110 - val_loss: 0.3704 - val_acc: 0.9359\n",
      "Epoch 4/8\n",
      "78200/78200 [==============================] - 397s 5ms/step - loss: 1.4081 - acc: 0.5344 - val_loss: 0.3022 - val_acc: 0.9386\n",
      "Epoch 5/8\n",
      "78200/78200 [==============================] - 398s 5ms/step - loss: 1.3376 - acc: 0.5519 - val_loss: 0.2761 - val_acc: 0.9448\n",
      "Epoch 6/8\n",
      "78200/78200 [==============================] - 380s 5ms/step - loss: 1.2930 - acc: 0.5674 - val_loss: 0.2457 - val_acc: 0.9488\n",
      "Epoch 7/8\n",
      "78200/78200 [==============================] - 388s 5ms/step - loss: 1.2677 - acc: 0.5703 - val_loss: 0.2251 - val_acc: 0.9522\n",
      "Epoch 8/8\n",
      "78200/78200 [==============================] - 398s 5ms/step - loss: 1.2237 - acc: 0.5836 - val_loss: 0.2157 - val_acc: 0.9549\n"
     ]
    },
    {
     "data": {
      "text/plain": [
       "<keras.callbacks.History at 0x7f3efe094390>"
      ]
     },
     "execution_count": 10,
     "metadata": {},
     "output_type": "execute_result"
    }
   ],
   "source": [
    "model = Sequential()\n",
    "\n",
    "#2 conv layers , \n",
    "model.add(Conv2D(32,(2,2),input_shape=(32,32,1)))\n",
    "model.add(BatchNormalization())\n",
    "model.add(Activation('relu'))\n",
    "model.add(MaxPooling2D(pool_size=(2,2)))\n",
    "\n",
    "model.add(Conv2D(64,(2,2)))\n",
    "model.add(BatchNormalization())\n",
    "model.add(Activation('relu'))\n",
    "model.add(MaxPooling2D(pool_size=(2,2)))\n",
    "\n",
    "#to pass to dense we need to flatten\n",
    "model.add(Flatten())\n",
    "\n",
    "#2 dense layers for full connection\n",
    "model.add(Dense(64))\n",
    "model.add(BatchNormalization())\n",
    "model.add(Activation('relu'))\n",
    "model.add(Dropout(0.8))\n",
    "\n",
    "model.add(Dense(46))\n",
    "model.add(Activation('softmax'))\n",
    "\n",
    "model.compile(loss='categorical_crossentropy', optimizer=Adam(), metrics=['accuracy'])\n",
    "model.fit(X_train,y_train,epochs=8,verbose=True,batch_size=32,validation_data=(X_test,y_test))\n",
    " "
   ]
  },
  {
   "cell_type": "code",
   "execution_count": 11,
   "metadata": {},
   "outputs": [
    {
     "name": "stdout",
     "output_type": "stream",
     "text": [
      "13800/13800 [==============================] - 17s 1ms/step\n",
      "Loss:  0.21566840724236724\n",
      "Accuracy:  0.9548550724637681\n",
      "78200/78200 [==============================] - 96s 1ms/step\n",
      "Loss:  0.19891996598276107\n",
      "Accuracy:  0.9620716112470993\n"
     ]
    }
   ],
   "source": [
    "#scoring_on_test_set\n",
    "score = model.evaluate(X_test,y_test)\n",
    "print(\"Loss: \",score[0])\n",
    "print(\"Accuracy: \",score[1]) \n",
    "\n",
    "#scoring_on_train_set\n",
    "score = model.evaluate(X_train,y_train)\n",
    "print(\"Loss: \",score[0])\n",
    "print(\"Accuracy: \",score[1]) "
   ]
  },
  {
   "cell_type": "code",
   "execution_count": 12,
   "metadata": {},
   "outputs": [
    {
     "name": "stdout",
     "output_type": "stream",
     "text": [
      "saved\n"
     ]
    }
   ],
   "source": [
    "#save model\n",
    "from keras.models import model_from_json \n",
    "model_json=model.to_json()\n",
    "with open(\"model.json\",\"w\") as json_file:\n",
    "    json_file.write(model_json)\n",
    "model.save_weights(\"model.h5\")\n",
    "print('saved')"
   ]
  }
 ],
 "metadata": {
  "kernelspec": {
   "display_name": "Python 3",
   "language": "python",
   "name": "python3"
  },
  "language_info": {
   "codemirror_mode": {
    "name": "ipython",
    "version": 3
   },
   "file_extension": ".py",
   "mimetype": "text/x-python",
   "name": "python",
   "nbconvert_exporter": "python",
   "pygments_lexer": "ipython3",
   "version": "3.5.2"
  }
 },
 "nbformat": 4,
 "nbformat_minor": 2
}
